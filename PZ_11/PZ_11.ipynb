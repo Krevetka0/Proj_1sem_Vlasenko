{
  "nbformat": 4,
  "nbformat_minor": 0,
  "metadata": {
    "colab": {
      "name": "PZ_11.ipynb",
      "provenance": []
    },
    "kernelspec": {
      "name": "python3",
      "display_name": "Python 3"
    },
    "language_info": {
      "name": "python"
    }
  },
  "cells": [
    {
      "cell_type": "markdown",
      "source": [
        "PZ_3_1"
      ],
      "metadata": {
        "id": "v-yN1ecuaon-"
      }
    },
    {
      "cell_type": "code",
      "execution_count": 1,
      "metadata": {
        "colab": {
          "base_uri": "https://localhost:8080/"
        },
        "id": "hZ6p-QSBaKFf",
        "outputId": "89ebaaef-1fe9-483e-e550-e1ddda1a1ffe"
      },
      "outputs": [
        {
          "output_type": "stream",
          "name": "stdout",
          "text": [
            "Введите целое число A: 5\n",
            "Введите целое число B: 4\n",
            "Неравенства A > 2 и B < 3 не верны!\n"
          ]
        }
      ],
      "source": [
        "# Даны два целых числа: A, B. Проверить истинность высказывания: «Справедливы неравенства A > 2 и B < 3».\n",
        "while True:    # обработка исключений\n",
        "    try:\n",
        "        A = int(input('Введите целое число A: '))\n",
        "        break\n",
        "    except ValueError:\n",
        "        print('Нужно целое число!')\n",
        "\n",
        "while True:    # обработка исключений\n",
        "    try:\n",
        "        B = int(input('Введите целое число B: '))\n",
        "        break\n",
        "    except ValueError:\n",
        "        print('Нужно целое число!')\n",
        "\n",
        "if A > 2 and B < 3:\n",
        "    print('Неравенства A > 2 и B < 3 верны!')\n",
        "else:\n",
        "    print('Неравенства A > 2 и B < 3 не верны!')\n",
        "\n"
      ]
    },
    {
      "cell_type": "markdown",
      "source": [
        "PZ_4_1"
      ],
      "metadata": {
        "id": "zKIBL4rYa2SM"
      }
    },
    {
      "cell_type": "code",
      "source": [
        "# Дано вещественное число — цена 1 кг конфет. Вывести стоимость 0.1, 0.2, ..., 1 кг конфет.\n",
        "while True:    # обработка исключений\n",
        "    try:\n",
        "        c = float(input('Введите цену за 1 кг конфет: '))\n",
        "        break\n",
        "    except ValueError:\n",
        "        print('Введите вещественное число!')\n",
        "k = 0\n",
        "while k < 0.9:\n",
        "    k += 0.1\n",
        "    print('Стоимость', round(k, 1), 'кг конфет будет', round(c * k, 1))\n",
        "\n"
      ],
      "metadata": {
        "colab": {
          "base_uri": "https://localhost:8080/"
        },
        "id": "w1QcmCs-a2o0",
        "outputId": "55dec7f6-471f-4669-a94c-ccb791230682"
      },
      "execution_count": 4,
      "outputs": [
        {
          "output_type": "stream",
          "name": "stdout",
          "text": [
            "Введите цену за 1 кг конфет: 80\n",
            "Стоимость 0.1 кг конфет будет 8.0\n",
            "Стоимость 0.2 кг конфет будет 16.0\n",
            "Стоимость 0.3 кг конфет будет 24.0\n",
            "Стоимость 0.4 кг конфет будет 32.0\n",
            "Стоимость 0.5 кг конфет будет 40.0\n",
            "Стоимость 0.6 кг конфет будет 48.0\n",
            "Стоимость 0.7 кг конфет будет 56.0\n",
            "Стоимость 0.8 кг конфет будет 64.0\n",
            "Стоимость 0.9 кг конфет будет 72.0\n",
            "Стоимость 1.0 кг конфет будет 80.0\n"
          ]
        }
      ]
    },
    {
      "cell_type": "markdown",
      "source": [
        "PZ_5_1"
      ],
      "metadata": {
        "id": "j1ZWfpEHa28E"
      }
    },
    {
      "cell_type": "code",
      "source": [
        "# Найти сумму чисел ряда 1,2,3,...,60 с использованием функции нахождения суммы.\n",
        "# Использовать локальные переменные\n",
        "def summa(a=1, b=0):\n",
        "    while a < 61:\n",
        "        b = b + a\n",
        "        a = a + 1\n",
        "    print('Сумма чисел ряда: ', b)\n",
        "\n",
        "\n",
        "summa()\n"
      ],
      "metadata": {
        "colab": {
          "base_uri": "https://localhost:8080/"
        },
        "id": "FWpl6ROQa3H9",
        "outputId": "0a9638f1-43cf-42b1-f26b-dfe650cef2eb"
      },
      "execution_count": 3,
      "outputs": [
        {
          "output_type": "stream",
          "name": "stdout",
          "text": [
            "Сумма чисел ряда:  1830\n"
          ]
        }
      ]
    }
  ]
}